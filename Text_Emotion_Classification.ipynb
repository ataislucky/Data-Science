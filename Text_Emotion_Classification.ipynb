{
  "nbformat": 4,
  "nbformat_minor": 0,
  "metadata": {
    "colab": {
      "provenance": [],
      "authorship_tag": "ABX9TyN4UpU6Xid2l3IJUTCmVUmZ",
      "include_colab_link": true
    },
    "kernelspec": {
      "name": "python3",
      "display_name": "Python 3"
    },
    "language_info": {
      "name": "python"
    }
  },
  "cells": [
    {
      "cell_type": "markdown",
      "metadata": {
        "id": "view-in-github",
        "colab_type": "text"
      },
      "source": [
        "<a href=\"https://colab.research.google.com/github/ataislucky/Data-Science/blob/main/Text_Emotion_Classification.ipynb\" target=\"_parent\"><img src=\"https://colab.research.google.com/assets/colab-badge.svg\" alt=\"Open In Colab\"/></a>"
      ]
    },
    {
      "cell_type": "code",
      "execution_count": 1,
      "metadata": {
        "id": "lzCUwnG8ryVu"
      },
      "outputs": [],
      "source": [
        "import pandas as pd\n",
        "import numpy as np\n",
        "import keras\n",
        "import tensorflow\n",
        "from keras.preprocessing.text import Tokenizer\n",
        "from tensorflow.keras.preprocessing.sequence import pad_sequences\n",
        "from sklearn.preprocessing import LabelEncoder\n",
        "from sklearn.model_selection import train_test_split\n",
        "from keras.models import Sequential\n",
        "from keras.layers import Embedding, Flatten, Dense"
      ]
    },
    {
      "cell_type": "code",
      "source": [
        "url = \"https://raw.githubusercontent.com/ataislucky/Data-Science/main/dataset/emotion_train.txt\"\n",
        "data = pd.read_csv(url, sep=';')\n",
        "data.columns = [\"Text\", \"Emotions\"]\n",
        "print(data.head())"
      ],
      "metadata": {
        "colab": {
          "base_uri": "https://localhost:8080/"
        },
        "id": "qBAINxxctfEb",
        "outputId": "b3884f7d-4bc3-4128-d97a-1f3137a8cbd9"
      },
      "execution_count": 3,
      "outputs": [
        {
          "output_type": "stream",
          "name": "stdout",
          "text": [
            "                                                Text Emotions\n",
            "0  i can go from feeling so hopeless to so damned...  sadness\n",
            "1   im grabbing a minute to post i feel greedy wrong    anger\n",
            "2  i am ever feeling nostalgic about the fireplac...     love\n",
            "3                               i am feeling grouchy    anger\n",
            "4  ive been feeling a little burdened lately wasn...  sadness\n"
          ]
        }
      ]
    },
    {
      "cell_type": "code",
      "source": [
        "texts = data[\"Text\"].tolist()\n",
        "labels = data[\"Emotions\"].tolist()\n",
        "\n",
        "# Tokenize the text data\n",
        "tokenizer = Tokenizer()\n",
        "tokenizer.fit_on_texts(texts)"
      ],
      "metadata": {
        "id": "ontn840st0I1"
      },
      "execution_count": 4,
      "outputs": []
    },
    {
      "cell_type": "code",
      "source": [
        "sequences = tokenizer.texts_to_sequences(texts)\n",
        "max_length = max([len(seq) for seq in sequences])\n",
        "padded_sequences = pad_sequences(sequences, maxlen=max_length)"
      ],
      "metadata": {
        "id": "BI5vGs50t-_s"
      },
      "execution_count": 5,
      "outputs": []
    },
    {
      "cell_type": "code",
      "source": [
        "# Encode the string labels to integers\n",
        "label_encoder = LabelEncoder()\n",
        "labels = label_encoder.fit_transform(labels)"
      ],
      "metadata": {
        "id": "3aPlDS61uHRf"
      },
      "execution_count": 6,
      "outputs": []
    },
    {
      "cell_type": "code",
      "source": [
        "# One-hot encode the labels\n",
        "one_hot_labels = keras.utils.to_categorical(labels)"
      ],
      "metadata": {
        "id": "a7geQofduLjq"
      },
      "execution_count": 7,
      "outputs": []
    },
    {
      "cell_type": "code",
      "source": [
        "# Split the data into training and testing sets\n",
        "xtrain, xtest, ytrain, ytest = train_test_split(padded_sequences, \n",
        "                                                one_hot_labels, \n",
        "                                                test_size=0.2)"
      ],
      "metadata": {
        "id": "3vl4QhNCufIU"
      },
      "execution_count": 8,
      "outputs": []
    },
    {
      "cell_type": "code",
      "source": [
        "# Define the model\n",
        "model = Sequential()\n",
        "model.add(Embedding(input_dim=len(tokenizer.word_index) + 1, \n",
        "                    output_dim=128, input_length=max_length))\n",
        "model.add(Flatten())\n",
        "model.add(Dense(units=128, activation=\"relu\"))\n",
        "model.add(Dense(units=len(one_hot_labels[0]), activation=\"softmax\"))\n",
        "\n",
        "model.compile(optimizer=\"adam\", loss=\"categorical_crossentropy\", metrics=[\"accuracy\"])\n",
        "model.fit(xtrain, ytrain, epochs=10, batch_size=32, validation_data=(xtest, ytest))"
      ],
      "metadata": {
        "colab": {
          "base_uri": "https://localhost:8080/"
        },
        "id": "lHBLW7o-uh3_",
        "outputId": "c14e8460-8923-426b-a9ab-fbd59e078889"
      },
      "execution_count": 9,
      "outputs": [
        {
          "output_type": "stream",
          "name": "stdout",
          "text": [
            "Epoch 1/10\n",
            "400/400 [==============================] - 21s 47ms/step - loss: 1.3532 - accuracy: 0.4748 - val_loss: 0.8151 - val_accuracy: 0.7194\n",
            "Epoch 2/10\n",
            "400/400 [==============================] - 19s 48ms/step - loss: 0.3499 - accuracy: 0.8928 - val_loss: 0.5118 - val_accuracy: 0.8284\n",
            "Epoch 3/10\n",
            "400/400 [==============================] - 20s 49ms/step - loss: 0.0598 - accuracy: 0.9847 - val_loss: 0.5308 - val_accuracy: 0.8344\n",
            "Epoch 4/10\n",
            "400/400 [==============================] - 21s 53ms/step - loss: 0.0230 - accuracy: 0.9945 - val_loss: 0.6375 - val_accuracy: 0.8266\n",
            "Epoch 5/10\n",
            "400/400 [==============================] - 22s 56ms/step - loss: 0.0165 - accuracy: 0.9971 - val_loss: 0.5869 - val_accuracy: 0.8344\n",
            "Epoch 6/10\n",
            "400/400 [==============================] - 18s 45ms/step - loss: 0.0143 - accuracy: 0.9970 - val_loss: 0.6417 - val_accuracy: 0.8313\n",
            "Epoch 7/10\n",
            "400/400 [==============================] - 17s 44ms/step - loss: 0.0119 - accuracy: 0.9973 - val_loss: 0.6448 - val_accuracy: 0.8288\n",
            "Epoch 8/10\n",
            "400/400 [==============================] - 18s 46ms/step - loss: 0.0098 - accuracy: 0.9975 - val_loss: 0.7271 - val_accuracy: 0.8238\n",
            "Epoch 9/10\n",
            "400/400 [==============================] - 18s 44ms/step - loss: 0.0089 - accuracy: 0.9978 - val_loss: 0.7237 - val_accuracy: 0.8253\n",
            "Epoch 10/10\n",
            "400/400 [==============================] - 20s 49ms/step - loss: 0.0077 - accuracy: 0.9980 - val_loss: 0.7948 - val_accuracy: 0.8100\n"
          ]
        },
        {
          "output_type": "execute_result",
          "data": {
            "text/plain": [
              "<keras.callbacks.History at 0x7f3b9c2a4ee0>"
            ]
          },
          "metadata": {},
          "execution_count": 9
        }
      ]
    },
    {
      "cell_type": "code",
      "source": [
        "#input_text from user\n",
        "input_text = input(\"Please input sentence here : \")\n",
        "\n",
        "# Preprocess the input text\n",
        "input_sequence = tokenizer.texts_to_sequences([input_text])\n",
        "padded_input_sequence = pad_sequences(input_sequence, maxlen=max_length)\n",
        "prediction = model.predict(padded_input_sequence)\n",
        "predicted_label = label_encoder.inverse_transform([np.argmax(prediction[0])])\n",
        "print(predicted_label)"
      ],
      "metadata": {
        "colab": {
          "base_uri": "https://localhost:8080/"
        },
        "id": "vtp8ZWbLuzVB",
        "outputId": "0f1e6b76-f1bc-45f4-cee2-6de526e2ef99"
      },
      "execution_count": 10,
      "outputs": [
        {
          "output_type": "stream",
          "name": "stdout",
          "text": [
            "Please input sentence here : She didn't come today because her mother died yesterday\n",
            "1/1 [==============================] - 0s 93ms/step\n",
            "['sadness']\n"
          ]
        }
      ]
    }
  ]
}